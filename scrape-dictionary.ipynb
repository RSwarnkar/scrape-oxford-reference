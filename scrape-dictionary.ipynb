{
 "cells": [
  {
   "cell_type": "markdown",
   "id": "872c30b1",
   "metadata": {},
   "source": [
    "# Python Scrapper: [Disctionary of Physics 6ed.](https://www.oxfordreference.com/view/10.1093/acref/9780199233991.001.0001/acref-9780199233991?page=1&pageSize=20)\n",
    "\n",
    "@author: [Rajesh Swarnkar](mailto:rjs.swarnkar[at]gmail.com)"
   ]
  },
  {
   "cell_type": "code",
   "execution_count": 1,
   "id": "bd367fe4",
   "metadata": {},
   "outputs": [],
   "source": [
    "import requests\n",
    "from lxml import html as lxml_html\n",
    "import time\n",
    "\n"
   ]
  },
  {
   "cell_type": "code",
   "execution_count": 2,
   "id": "9fc48c37",
   "metadata": {},
   "outputs": [
    {
     "name": "stdout",
     "output_type": "stream",
     "text": [
      "https://www.oxfordreference.com/view/10.1093/acref/9780199233991.001.0001/acref-9780199233991?page=1&pageSize=20\n"
     ]
    }
   ],
   "source": [
    "page_num = 1\n",
    "page_size = 20 # Not required to change it\n",
    "\n",
    "target_url = \"https://www.oxfordreference.com/view/10.1093/acref/9780199233991.001.0001/acref-9780199233991?page=\" \\\n",
    "             + str(page_num) \\\n",
    "             + \"&pageSize=\"+str(page_size)\n",
    "\n",
    "user_agent_string = \"Mozilla/5.0 (Windows NT 10.0; Win64; x64) \\\n",
    "                    AppleWebKit/537.36 (KHTML, like Gecko) Chrome/97.0.4692.71 Safari/537.36\"\n",
    "\n",
    "print(target_url)"
   ]
  },
  {
   "cell_type": "markdown",
   "id": "bd520089",
   "metadata": {},
   "source": [
    "If you get `403 Forbidden`, refer this [stackoverflow](https://stackoverflow.com/questions/38489386/python-requests-403-forbidden)."
   ]
  },
  {
   "cell_type": "code",
   "execution_count": 3,
   "id": "48ec119c",
   "metadata": {
    "scrolled": true
   },
   "outputs": [
    {
     "name": "stdout",
     "output_type": "stream",
     "text": [
      "200\n"
     ]
    }
   ],
   "source": [
    "my_response = requests.get(target_url, headers = {\"User-Agent\":user_agent_string })\n",
    "print(my_response.status_code)\n"
   ]
  },
  {
   "cell_type": "code",
   "execution_count": 4,
   "id": "4a188376",
   "metadata": {},
   "outputs": [
    {
     "name": "stdout",
     "output_type": "stream",
     "text": [
      "['2', '3', '4', '5', '6', '7', '8', '9', '10', '11', '188', '189', '2', '3', '4', '5', '6', '7', '8', '9', '10', '11', '188', '189']\n",
      "189\n"
     ]
    }
   ],
   "source": [
    "## Search number of Pages: \n",
    "## https://stackoverflow.com/questions/34660128/inspecting-elements-and-using-xpath-to-get-the-correct-data-python\n",
    "\n",
    "tree = lxml_html.fromstring(my_response.content)\n",
    "\n",
    "list_of_links = tree.xpath('//*[@title=\"[[missing key: goto-page]]\"]/text()')\n",
    "\n",
    "last_page = list_of_links[-1]\n",
    "\n",
    "print(list_of_links)\n",
    "print(last_page)\n",
    "\n"
   ]
  },
  {
   "cell_type": "code",
   "execution_count": 5,
   "id": "20a90744",
   "metadata": {},
   "outputs": [
    {
     "name": "stdout",
     "output_type": "stream",
     "text": [
      "Last word is : aeronautics\n"
     ]
    }
   ],
   "source": [
    "last_page = 4\n",
    "page_list = [item for item in range(1,last_page)]\n",
    "item_per_page = 20 # do not change\n",
    "\n",
    "physics_words = []\n",
    "\n",
    "for i in page_list: \n",
    "    time.sleep(3) # Delay for 5 seconds\n",
    "    target_url = \"https://www.oxfordreference.com/view/10.1093/acref/9780199233991.001.0001/acref-9780199233991?page=\" \\\n",
    "             + str(i) \\\n",
    "             + \"&pageSize=\"+str(item_per_page)\n",
    "    my_response = requests.get(target_url, headers = {\"User-Agent\":user_agent_string })\n",
    "    tree = lxml_html.fromstring(my_response.content)\n",
    "    word_list = tree.xpath('//*[@class=\"itemTitle\"]/a/text()')\n",
    "    physics_words = physics_words + word_list\n",
    "\n",
    "    \n",
    "print(\"Last word is : \"+physics_words[-1])"
   ]
  },
  {
   "cell_type": "code",
   "execution_count": 6,
   "id": "6d09abdc",
   "metadata": {},
   "outputs": [
    {
     "data": {
      "text/plain": [
       "['a.c.',\n",
       " 'a.m.u.',\n",
       " 'ab-',\n",
       " 'Abelian group',\n",
       " 'aberration',\n",
       " 'abscissa',\n",
       " 'absolute',\n",
       " 'absolute expansivity',\n",
       " 'absolute humidity',\n",
       " 'absolute permittivity',\n",
       " 'absolute pitch',\n",
       " 'absolute space',\n",
       " 'absolute temperature',\n",
       " 'absolute time',\n",
       " 'absolute value',\n",
       " 'absolute zero',\n",
       " 'absorptance',\n",
       " 'absorption',\n",
       " 'absorption coefficient',\n",
       " 'absorption spectrum',\n",
       " 'absorptivity',\n",
       " 'abundance',\n",
       " 'acceleration',\n",
       " 'acceleration of free fall',\n",
       " 'accelerator',\n",
       " 'acceptor',\n",
       " 'acceptor levels',\n",
       " 'accommodation',\n",
       " 'accretion disk',\n",
       " 'accumulator',\n",
       " 'achromatic lens',\n",
       " 'acoustics',\n",
       " 'acoustoelectronic devices',\n",
       " 'actinic radiation',\n",
       " 'actinium',\n",
       " 'actinium series',\n",
       " 'actinoid contraction',\n",
       " 'actinometer',\n",
       " 'action at a distance',\n",
       " 'action potential',\n",
       " 'action spectrum',\n",
       " 'activation analysis',\n",
       " 'active device',\n",
       " 'active galactic nucleus',\n",
       " 'active galaxy',\n",
       " 'activity',\n",
       " 'additive process',\n",
       " 'adiabatic approximation',\n",
       " 'adiabatic demagnetization',\n",
       " 'adiabatic process',\n",
       " 'admittance',\n",
       " 'ADSL',\n",
       " 'adsorbate',\n",
       " 'adsorption',\n",
       " 'adsorption isotherm',\n",
       " 'advanced gas-cooled reactor',\n",
       " 'aerial',\n",
       " 'aerodynamics',\n",
       " 'aerogenerator',\n",
       " 'aeronautics']"
      ]
     },
     "execution_count": 6,
     "metadata": {},
     "output_type": "execute_result"
    }
   ],
   "source": [
    "physics_words"
   ]
  },
  {
   "cell_type": "code",
   "execution_count": null,
   "id": "dc4c62c5",
   "metadata": {},
   "outputs": [],
   "source": []
  }
 ],
 "metadata": {
  "kernelspec": {
   "display_name": "python3-dev",
   "language": "python",
   "name": "python3-dev"
  },
  "language_info": {
   "codemirror_mode": {
    "name": "ipython",
    "version": 3
   },
   "file_extension": ".py",
   "mimetype": "text/x-python",
   "name": "python",
   "nbconvert_exporter": "python",
   "pygments_lexer": "ipython3",
   "version": "3.10.0"
  }
 },
 "nbformat": 4,
 "nbformat_minor": 5
}
